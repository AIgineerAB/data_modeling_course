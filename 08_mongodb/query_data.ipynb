{
 "cells": [
  {
   "cell_type": "code",
   "execution_count": 14,
   "metadata": {},
   "outputs": [
    {
     "data": {
      "text/plain": [
       "Collection(Database(MongoClient(host=['localhost:27017'], document_class=dict, tz_aware=False, connect=True, authsource='admin'), 'linkedin'), 'profile')"
      ]
     },
     "execution_count": 14,
     "metadata": {},
     "output_type": "execute_result"
    }
   ],
   "source": [
    "from connect_mongodb import get_collection\n",
    "from pprint import pprint\n",
    "\n",
    "profiles = get_collection(database=\"linkedin\", collection=\"profile\")\n",
    "profiles\n"
   ]
  },
  {
   "cell_type": "code",
   "execution_count": null,
   "metadata": {},
   "outputs": [
    {
     "name": "stdout",
     "output_type": "stream",
     "text": [
      "Maria Junior Software Engineer\n",
      "Maria Data Analyst\n"
     ]
    }
   ],
   "source": [
    "profiles_maria = [profile for profile in profiles.find({\"first_name\": \"Maria\"})]\n",
    "\n",
    "print(profiles_maria[0][\"first_name\"], profiles_maria[0][\"experience\"][0][\"title\"])\n",
    "print(profiles_maria[1][\"first_name\"], profiles_maria[1][\"experience\"][0][\"title\"])"
   ]
  },
  {
   "cell_type": "code",
   "execution_count": 26,
   "metadata": {},
   "outputs": [
    {
     "data": {
      "text/plain": [
       "{'_id': ObjectId('67dbff0fdbf58a05bd455ca8'),\n",
       " 'user_id': 42145,\n",
       " 'first_name': 'Kokchun',\n",
       " 'last_name': 'Giang',\n",
       " 'about': 'Data engineer, scientist, and educator passionate about turning messy data into valuable insights. Loves open-source projects and community contributions.',\n",
       " 'photo_url': 'https://media.licdn.com/digitalprofile/kokchun',\n",
       " 'experience': [{'title': 'Founder & Lead Consultant',\n",
       "   'organization': 'AIgineer',\n",
       "   'start_date': '2024-01',\n",
       "   'end_date': 'present',\n",
       "   'description': 'Advising businesses on integrating AI solutions and developing custom data engineering pipelines.'},\n",
       "  {'title': 'Lecturer in AI and Machine Learning',\n",
       "   'organization': 'IT-Högskolan',\n",
       "   'start_date': '2021-01',\n",
       "   'end_date': '2023-12',\n",
       "   'description': 'Taught courses on AI, machine learning, and data analytics to undergraduate and graduate students.'}]}"
      ]
     },
     "execution_count": 26,
     "metadata": {},
     "output_type": "execute_result"
    }
   ],
   "source": [
    "profiles.find_one({\"first_name\": \"Kokchun\"})"
   ]
  }
 ],
 "metadata": {
  "kernelspec": {
   "display_name": ".venv",
   "language": "python",
   "name": "python3"
  },
  "language_info": {
   "codemirror_mode": {
    "name": "ipython",
    "version": 3
   },
   "file_extension": ".py",
   "mimetype": "text/x-python",
   "name": "python",
   "nbconvert_exporter": "python",
   "pygments_lexer": "ipython3",
   "version": "3.11.8"
  }
 },
 "nbformat": 4,
 "nbformat_minor": 2
}
